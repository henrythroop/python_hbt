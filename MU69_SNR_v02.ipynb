{
 "cells": [
  {
   "cell_type": "markdown",
   "metadata": {},
   "source": [
    "# Signal-to-Noise Estimator for MU69 Occultation Events"
   ]
  },
  {
   "cell_type": "markdown",
   "metadata": {},
   "source": [
    "Eliot Young, *SWRI*, 9-NOV-2016. Edited by HBT 10-Nov-2016 to fix some broken imports, etc."
   ]
  },
  {
   "cell_type": "code",
   "execution_count": 11,
   "metadata": {
    "collapsed": false
   },
   "outputs": [
    {
     "data": {
      "text/html": [
       "<style>.container { width:98% !important; }</style>"
      ],
      "text/plain": [
       "<IPython.core.display.HTML object>"
      ]
     },
     "execution_count": 11,
     "metadata": {},
     "output_type": "execute_result"
    }
   ],
   "source": [
    "from IPython.core.display import HTML\n",
    "HTML(\"<style>.container { width:98% !important; }</style>\")"
   ]
  },
  {
   "cell_type": "markdown",
   "metadata": {},
   "source": [
    "**BASIC IDEA**\n",
    "\n",
    "This notebook estimates the signal-to-noise ratio by estimating the flux of photons from the occulted star (the \"signal\") and the amplitudes of four noise sources: photon shot noise from the star, from sky background and from dark current, plus read noise from the detector. These four noise sources are added quadratically.\n",
    "\n",
    "SNR = Source_Counts / sqrt(source_variance + sky_variance + dark_current_variance + readnoise^2)\n",
    "\n",
    "We'll work in units of electrons. This means that the noise in the source signal is square root of the source counts (in electrons) or, alternatively, the variance in the signal is the square of the error, or the source counts itself -- that's the way that Poisson-distributed random variables (like collected photons) work.\n",
    "\n",
    "Example: If an observation of a star results in 2500 electrons over the exposure, then the SNR of that measurement (ignoring sky counts, dark current and read noise) is \n",
    "\n",
    "SNR = 2500/sqrt(2500) = 50.\n",
    "\n"
   ]
  },
  {
   "cell_type": "code",
   "execution_count": 30,
   "metadata": {
    "collapsed": false
   },
   "outputs": [],
   "source": [
    "import math\n",
    "import numpy as np"
   ]
  },
  {
   "cell_type": "markdown",
   "metadata": {},
   "source": [
    "### Some Useful Constants"
   ]
  },
  {
   "cell_type": "code",
   "execution_count": 12,
   "metadata": {
    "collapsed": false
   },
   "outputs": [],
   "source": [
    "h = 6.62606e-34 # Planck constant in J·s\n",
    "c = 2.998e8 # speed of light in m/s\n",
    "\n",
    "f_R = 1.74e-9 * 1.0e-7 # Flux from a R=0 source in J cm-2 s-1 Å-1\n",
    "lam_R = 0.7 # Center of the Johnson R filter (µm)\n",
    "wid_R = 0.22 * 10000 # Width of the R filter in Å.\n",
    "pi = 3.14\n",
    "\n",
    "# Ref: Zombeck 2nd ed. p. 100 (below)"
   ]
  },
  {
   "cell_type": "markdown",
   "metadata": {},
   "source": [
    "![Standard Photometric Systems: Zombeck 2nd ed., p. 100](Zombeck_p100.png \"Standard Photometric Filters\")"
   ]
  },
  {
   "cell_type": "markdown",
   "metadata": {},
   "source": [
    "### Some useful routines"
   ]
  },
  {
   "cell_type": "code",
   "execution_count": 13,
   "metadata": {
    "collapsed": true
   },
   "outputs": [],
   "source": [
    "def fluxRatio(m1,m2):\n",
    "    '''This routine returns the flux ratio of source 1 over source 2\n",
    "    EFY, SWRI, 9-NOV-2016\n",
    "    \n",
    "    Inputs: \n",
    "    m1 - magnitude of source 1\n",
    "    m2 - magnitude of source 2\n",
    "    \n",
    "    Output:\n",
    "    ratio of flux1/flux2\n",
    "    \n",
    "    Example: fluxRatio(5.0, 0.0)\n",
    "    > 0.01\n",
    "    '''\n",
    "    \n",
    "    return(10.0**(0.4 * (m2 - m1)))"
   ]
  },
  {
   "cell_type": "markdown",
   "metadata": {},
   "source": [
    "### Some Telescope and Detector Parameters"
   ]
  },
  {
   "cell_type": "markdown",
   "metadata": {},
   "source": [
    "Assume that the telescope is a 20-in Newtonian with a small secondary flat (a 1% obscuration). Its speed is f/3.7. The average star PSF is assumed to be 2\" wide (FWHM). Assume the telescope transmission is 88%.\n",
    "\n",
    "\n",
    "Assume the detector is an sCMOS device (like the Andor/Zyla 4.2) with 6.5 µm pixels. QE is 82% in R-band and the readnoise is 1 e-."
   ]
  },
  {
   "cell_type": "code",
   "execution_count": 14,
   "metadata": {
    "collapsed": false
   },
   "outputs": [
    {
     "name": "stdout",
     "output_type": "stream",
     "text": [
      "platescale (arcsec/pixel):  0.7247148648648649\n",
      "Effective telescope area (cm^2):  1709.73\n"
     ]
    }
   ],
   "source": [
    "aperture = 50.0 # Aperture in cm\n",
    "telTrans = 0.88\n",
    "clear_ap = 0.99\n",
    "eff_ap = pi * (0.5*aperture)**2 * clear_ap * telTrans # effective aperture in cm^2\n",
    "\n",
    "fnum = 3.7\n",
    "focal_L = aperture * 10000. * fnum # Focal length in microns\n",
    "\n",
    "pixSz = 6.5 # Detector pixel pitch in microns (Zyla)\n",
    "QE = 0.82\n",
    "RN = 1.0 # read noise, in e- per pixel (Zyla)\n",
    "DC = 0.14 # dark current, in e- per pixel per sec at cold temperatures (Zyla)\n",
    "\n",
    "PSF_wid = 2.0 # PSF radius of reasonable signal in arcsec, assuming mediocre seeing\n",
    "\n",
    "platescale = (206265./focal_L) * pixSz # platescale in arcsec per pixel\n",
    "\n",
    "sky_R = 19.9 # Sky is darker than this (R-mag per square arcsec) 50% of the time.\n",
    "# Ref: <https://www.gemini.edu/sciops/telescopes-and-sites/observing-condition-constraints/optical-sky-background>\n",
    "\n",
    "print(\"platescale (arcsec/pixel): \", platescale)\n",
    "print(\"Effective telescope area (cm^2): \", eff_ap)"
   ]
  },
  {
   "cell_type": "code",
   "execution_count": 15,
   "metadata": {
    "collapsed": false
   },
   "outputs": [
    {
     "name": "stdout",
     "output_type": "stream",
     "text": [
      "nPix:  23.914169364287176\n"
     ]
    }
   ],
   "source": [
    "nPix = pi * (PSF_wid/platescale)**2 # Number of pixels covered by a star.\n",
    "if (nPix < 1.0): nPix = 1\n",
    "print(\"nPix: \", nPix)"
   ]
  },
  {
   "cell_type": "markdown",
   "metadata": {},
   "source": [
    "### Calculate the Flux from a Star"
   ]
  },
  {
   "cell_type": "code",
   "execution_count": 16,
   "metadata": {
    "collapsed": true
   },
   "outputs": [],
   "source": [
    "def StarPhots(m):\n",
    "    '''This routine calculates the number of photons per sec received from our telescope from a star of R-mag = m.\n",
    "    EFY, SWRI, 9-NOV-2016\n",
    "    \n",
    "    Inputs:\n",
    "    m - the R-mag of a star\n",
    "    \n",
    "    Outputs:\n",
    "    f - the flux in photons per sec per cm^2'''\n",
    "    \n",
    "    # Step 1: Calculate the flux from the star (J/s) in the R filter with our telescope\n",
    "    \n",
    "    fluxJ = f_R * wid_R * eff_ap\n",
    "    \n",
    "    # Step 2: Calculate photons per Joule and convert flux to phots/s\n",
    "    \n",
    "    freq = c/(lam_R * 1e-6) # freq of an R-band photon in Hz\n",
    "    PhotJ = h * freq # J/phot\n",
    "    \n",
    "    fluxPhot = fluxJ/PhotJ\n",
    "    \n",
    "    return(fluxRatio(m, 0.0) * fluxPhot)\n",
    "    "
   ]
  },
  {
   "cell_type": "code",
   "execution_count": 17,
   "metadata": {
    "collapsed": false
   },
   "outputs": [],
   "source": [
    "# Here's a convenience function to get the number of source electrons in a exposure of time t sec.\n",
    "def nElec(m, t):\n",
    "    '''This routine scales the photon flux by the QE to convert to electrons.\n",
    "    \n",
    "    Eliot Young, SWRI, 9-NOV-2016\n",
    "    \n",
    "    Inputs:\n",
    "    m - source R-mag\n",
    "    t - exposure time\n",
    "    \n",
    "    Outputs:\n",
    "    nE - number of detected electrons from source in a t-sec exposure\n",
    "    '''\n",
    "    \n",
    "    return(QE * StarPhots(m) * t)"
   ]
  },
  {
   "cell_type": "code",
   "execution_count": 18,
   "metadata": {
    "collapsed": false
   },
   "outputs": [
    {
     "data": {
      "text/plain": [
       "261.67025441178816"
      ]
     },
     "execution_count": 18,
     "metadata": {},
     "output_type": "execute_result"
    }
   ],
   "source": [
    "nElec(15.4, 0.2)"
   ]
  },
  {
   "cell_type": "markdown",
   "metadata": {},
   "source": [
    "### Estimate Noise Sources"
   ]
  },
  {
   "cell_type": "code",
   "execution_count": 19,
   "metadata": {
    "collapsed": false
   },
   "outputs": [
    {
     "ename": "NameError",
     "evalue": "name 'sqrt' is not defined",
     "output_type": "error",
     "traceback": [
      "\u001b[0;31m---------------------------------------------------------------------------\u001b[0m",
      "\u001b[0;31mNameError\u001b[0m                                 Traceback (most recent call last)",
      "\u001b[0;32m<ipython-input-19-5bc6841271a6>\u001b[0m in \u001b[0;36m<module>\u001b[0;34m()\u001b[0m\n\u001b[1;32m      1\u001b[0m \u001b[0;31m# At a minimum, the noise will be limited by the Poisson noise of the source itself.\u001b[0m\u001b[0;34m\u001b[0m\u001b[0;34m\u001b[0m\u001b[0m\n\u001b[1;32m      2\u001b[0m \u001b[0;31m# If we're lucky, that will be the dominant noise source\u001b[0m\u001b[0;34m\u001b[0m\u001b[0;34m\u001b[0m\u001b[0m\n\u001b[0;32m----> 3\u001b[0;31m \u001b[0mprint\u001b[0m\u001b[0;34m(\u001b[0m\u001b[0;34m\"Best case SNR from an R=15.4 in 0.2 s (just considering photon shot noise from the source: \"\u001b[0m\u001b[0;34m,\u001b[0m \u001b[0msqrt\u001b[0m\u001b[0;34m(\u001b[0m\u001b[0mnElec\u001b[0m\u001b[0;34m(\u001b[0m\u001b[0;36m15.4\u001b[0m\u001b[0;34m,\u001b[0m \u001b[0;36m0.2\u001b[0m\u001b[0;34m)\u001b[0m\u001b[0;34m)\u001b[0m\u001b[0;34m)\u001b[0m\u001b[0;34m\u001b[0m\u001b[0m\n\u001b[0m",
      "\u001b[0;31mNameError\u001b[0m: name 'sqrt' is not defined"
     ]
    }
   ],
   "source": [
    "# At a minimum, the noise will be limited by the Poisson noise of the source itself. \n",
    "# If we're lucky, that will be the dominant noise source\n",
    "print(\"Best case SNR from an R=15.4 in 0.2 s (just considering photon shot noise from the source: \", sqrt(nElec(15.4, 0.2)))"
   ]
  },
  {
   "cell_type": "code",
   "execution_count": 31,
   "metadata": {
    "collapsed": true
   },
   "outputs": [],
   "source": [
    "# A convenience function to quadratically add the noise sources\n",
    "def NoiseTerms(m, t, nP):\n",
    "    '''A function to estimate each of the four noise sources.\n",
    "    \n",
    "    EFY, SWRI, 9-NOV-2016\n",
    "    \n",
    "    Inputs:\n",
    "    m - R-band magnitude\n",
    "    t - exposure time (s)\n",
    "    nP - estimated number of pixels covered by the star\n",
    "    \n",
    "    Outputs:\n",
    "    nz - a four element array with the 4 noise terms: source_shot_noise, sky_shot_noise, dark_cur_shot_noise, readnoise\n",
    "    \n",
    "    Note: this function refers to a lot of globals that are defined in the cell that describes the telescope & detector'''\n",
    "    \n",
    "    # Source shot noise:\n",
    "    src_nz = math.sqrt(nElec(m,t))\n",
    "    \n",
    "    # Sky shot noise -- we need to estimate the sky area under the PSF (in arcsec)\n",
    "    pixArcSec = platescale**2 # area of a pixel in sq arcsec\n",
    "    sky_nz = math.sqrt(nP * pixArcSec * nElec(sky_R, t))\n",
    "    \n",
    "    # Dark Current noise\n",
    "    dark_nz = math.sqrt(DC * nP * t)\n",
    "    \n",
    "    NzTerms = np.array([src_nz, sky_nz, dark_nz, RN*nP])\n",
    "    \n",
    "    return(NzTerms)\n",
    "    \n",
    "    "
   ]
  },
  {
   "cell_type": "code",
   "execution_count": 32,
   "metadata": {
    "collapsed": false
   },
   "outputs": [
    {
     "data": {
      "text/plain": [
       "array([ 16.17622497,   7.21725414,   0.81828891,  23.91416936])"
      ]
     },
     "execution_count": 32,
     "metadata": {},
     "output_type": "execute_result"
    }
   ],
   "source": [
    "NoiseTerms(15.4, 0.2, nPix) # Source counts and read noise are dominant"
   ]
  },
  {
   "cell_type": "code",
   "execution_count": 35,
   "metadata": {
    "collapsed": true
   },
   "outputs": [],
   "source": [
    "# SNR: a function to estimate the SNR of a star in a given exposure\n",
    "def SNR_fun(m, t, nP):\n",
    "    '''A function to calculate the ratio of the source counts to the quadratic sum of noise terms.\n",
    "    \n",
    "    EFY, SWRI, 9-NOV-2016\n",
    "    \n",
    "    Inputs:\n",
    "    m - R-band magnitude\n",
    "    t - exposure time (s)\n",
    "    nP - estimated number of pixels covered by the star\n",
    "    \n",
    "    Outputs:\n",
    "    SNR - an estimate of the SNR\n",
    "    '''\n",
    "    \n",
    "    src_e = nElec(m, t)\n",
    "    nz = NoiseTerms(m, t, nP)\n",
    "    \n",
    "    return(src_e/math.sqrt(sum(nz**2)))\n",
    "    \n",
    "    "
   ]
  },
  {
   "cell_type": "code",
   "execution_count": 36,
   "metadata": {
    "collapsed": false
   },
   "outputs": [
    {
     "data": {
      "text/plain": [
       "8.789416330459927"
      ]
     },
     "execution_count": 36,
     "metadata": {},
     "output_type": "execute_result"
    }
   ],
   "source": [
    "SNR_fun(15.4, 0.2, nPix)"
   ]
  },
  {
   "cell_type": "code",
   "execution_count": 37,
   "metadata": {
    "collapsed": false
   },
   "outputs": [
    {
     "data": {
      "text/plain": [
       "13.357969920285026"
      ]
     },
     "execution_count": 37,
     "metadata": {},
     "output_type": "execute_result"
    }
   ],
   "source": [
    "SNR_fun(15.4, 0.2, 10.0)"
   ]
  },
  {
   "cell_type": "code",
   "execution_count": null,
   "metadata": {
    "collapsed": true
   },
   "outputs": [],
   "source": []
  },
  {
   "cell_type": "code",
   "execution_count": null,
   "metadata": {
    "collapsed": true
   },
   "outputs": [],
   "source": []
  }
 ],
 "metadata": {
  "anaconda-cloud": {},
  "kernelspec": {
   "display_name": "Python [conda env:py3]",
   "language": "python",
   "name": "conda-env-py3-py"
  },
  "language_info": {
   "codemirror_mode": {
    "name": "ipython",
    "version": 3
   },
   "file_extension": ".py",
   "mimetype": "text/x-python",
   "name": "python",
   "nbconvert_exporter": "python",
   "pygments_lexer": "ipython3",
   "version": "3.5.2"
  }
 },
 "nbformat": 4,
 "nbformat_minor": 1
}
