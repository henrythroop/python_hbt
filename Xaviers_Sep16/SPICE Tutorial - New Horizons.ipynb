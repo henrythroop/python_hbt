{
 "cells": [
  {
   "cell_type": "markdown",
   "metadata": {},
   "source": [
    "## Data Analysis Workshop -- New Horizons -- SPICE navigation library\n",
    "## 26-Sep-2016 Henry Throop"
   ]
  },
  {
   "cell_type": "markdown",
   "metadata": {
    "collapsed": true
   },
   "source": [
    "Import the necessary Python libraries."
   ]
  },
  {
   "cell_type": "code",
   "execution_count": 1,
   "metadata": {
    "collapsed": false
   },
   "outputs": [
    {
     "name": "stderr",
     "output_type": "stream",
     "text": [
      "/Users/throop/anaconda/lib/python2.7/site-packages/matplotlib/font_manager.py:273: UserWarning: Matplotlib is building the font cache using fc-list. This may take a moment.\n",
      "  warnings.warn('Matplotlib is building the font cache using fc-list. This may take a moment.')\n"
     ]
    }
   ],
   "source": [
    "%matplotlib inline\n",
    "\n",
    "import numpy as np              # For NumPy\n",
    "import matplotlib.pyplot as plt # For plotting\n",
    "import cspice                   # For SPICE\n",
    "import astropy.units as u       # For unit conversion\n",
    "from astropy.io import fits     # For FITS reading \n",
    "import math                     \n",
    "import os.path              \n",
    "\n",
    "r2d = 360 / 2 / math.pi         # Conversion from radians to degrees "
   ]
  },
  {
   "cell_type": "markdown",
   "metadata": {},
   "source": [
    "Tell SPICE to import the necessary kernel files. A list of kernel files is provided in the `kernels.tm` file: `.tm` = 'text metakernel'."
   ]
  },
  {
   "cell_type": "code",
   "execution_count": 2,
   "metadata": {
    "collapsed": false
   },
   "outputs": [],
   "source": [
    "file_kernels = 'kernels.tm'\n",
    "cspice.furnsh(file_kernels)"
   ]
  },
  {
   "cell_type": "markdown",
   "metadata": {},
   "source": [
    "Now convert from a UTC time into the spacecraft ET ('ephemeris time'). ET is a floating point number, roughly the nunber of seconds since the start of the US space program in 1957. Many SPICE routines use ET (rather than UTC) for consistency - it is a lot easier to do math on a floating-point value, than convert a string back and forth many times.\n",
    "\n",
    "We use `cspice.utc2et()` ('Universal Coordinate Time to Ephemeris Time') to convert into ET."
   ]
  },
  {
   "cell_type": "code",
   "execution_count": 5,
   "metadata": {
    "collapsed": false
   },
   "outputs": [],
   "source": [
    "utc = '2015 Jul 14 00:00:00'\n",
    "et = cspice.utc2et(utc)"
   ]
  },
  {
   "cell_type": "markdown",
   "metadata": {},
   "source": [
    "`cspice.spkezr`() ('Spacecraft Kernel, Easier') is SPICE's main position reader. It takes as input the target name, the ET, the frame (always use `'J2000'`), the aberration correction (usually use '`LT`': make light-time corrections), and the observer name.\n",
    "\n",
    "`cspice.spkezr`() returns a 6-element vector, plus a scalar. In the vector, the first three elements are the xyz position (in km), and the second three are the xyz velocity (in km/sec). For this example, we will just take the first three elements, extracted as `vec[0:3]`. The scalar returned is the light-travel time, in seconds.\n",
    "\n",
    "For instance, to find the distance between Mars and Earth on 2015 1 July, we can do this below. We are using Astropy's Units Library to convert from km to AU, but you could do the conversion without it easily enough.\n",
    "\n",
    "*Note that `cspice`'s error-checking is poor. If you pass arguments in the wrong order, it will often kill the python kernel.*"
   ]
  },
  {
   "cell_type": "code",
   "execution_count": 6,
   "metadata": {
    "collapsed": false
   },
   "outputs": [],
   "source": [
    "utc = '1 Jul 2015 00:00:00'\n",
    "et = cspice.utc2et(utc)\n",
    "(vec,lt) = cspice.spkezr('Pluto', et, 'J2000', 'LT', 'Earth')"
   ]
  },
  {
   "cell_type": "code",
   "execution_count": 8,
   "metadata": {
    "collapsed": false
   },
   "outputs": [
    {
     "name": "stdout",
     "output_type": "stream",
     "text": [
      "Distance from Pluto to Earth at 1 Jul 2015 00:00:00 = 31.89 AU\n",
      "Light-travel time = 15912.56 secconds.\n"
     ]
    }
   ],
   "source": [
    "dist = cspice.vnorm(vec[0:3])*u.km\n",
    "print \"Distance from Pluto to Earth at {} = {:.2f}\".format(utc, dist.to(u.AU))\n",
    "print \"Light-travel time = {:.2f} secconds.\".format(lt)"
   ]
  },
  {
   "cell_type": "code",
   "execution_count": 9,
   "metadata": {
    "collapsed": false
   },
   "outputs": [],
   "source": [
    "(vector_nh, lt) = cspice.spkezr('Pluto', et, 'J2000', 'LT', 'New Horizons')\n",
    "(vector_earth, lt) = cspice.spkezr('Pluto', et, 'J2000', 'LT', 'Earth')"
   ]
  },
  {
   "cell_type": "markdown",
   "metadata": {},
   "source": [
    "Now that we have computed the vector, take the first three elements to extract the xyz vector from Pluto to New Horizons. Then get the length of this vector using `cspice.vnorm()` ('vector normalize')."
   ]
  },
  {
   "cell_type": "code",
   "execution_count": 10,
   "metadata": {
    "collapsed": false
   },
   "outputs": [
    {
     "name": "stdout",
     "output_type": "stream",
     "text": [
      "At time 1 Jul 2015 00:00:00, distance from Pluto to New Horizons = 16067834.84 km\n",
      "At time 1 Jul 2015 00:00:00, distance from Earth to New Horizons = 31.89 AU\n"
     ]
    }
   ],
   "source": [
    "dist = cspice.vnorm(vector_nh[0:3])\n",
    "print \"At time {}, distance from Pluto to New Horizons = {:.2f} km\".format(utc, dist)\n",
    "\n",
    "dist_earth = cspice.vnorm(vector_earth[0:3])\n",
    "km_per_au = float((1*u.au) / (1*u.km))\n",
    "\n",
    "print \"At time {}, distance from Earth to New Horizons = {:.2f} AU\".\\\n",
    "format(utc, dist_earth/km_per_au)"
   ]
  },
  {
   "cell_type": "markdown",
   "metadata": {},
   "source": [
    "Look up the position of NH as seen from Earth. For this we use the `recrad` function ('Rectangular to RA-Dec')."
   ]
  },
  {
   "cell_type": "code",
   "execution_count": 11,
   "metadata": {
    "collapsed": false
   },
   "outputs": [
    {
     "name": "stdout",
     "output_type": "stream",
     "text": [
      "Sky position of New Horizons seen from Pluto: RA=270.64 deg, Dec=-14.61 deg.\n"
     ]
    }
   ],
   "source": [
    "(dist,ra,dec) = cspice.recrad(vector_nh[0:3])\n",
    "print \"Sky position of New Horizons seen from Pluto: RA={:.2f} deg, Dec={:.2f} deg.\".format(\\\n",
    "        ra*r2d, dec*r2d)"
   ]
  },
  {
   "cell_type": "markdown",
   "metadata": {},
   "source": [
    "## Now do some quick image processing."
   ]
  },
  {
   "cell_type": "markdown",
   "metadata": {
    "collapsed": true
   },
   "source": [
    "Read a FITS image into an array, using astropy's `fits.open()`. This is a New Horizons file, in this case of Charon.  \n",
    "\n",
    "`lor` : LORRI instrument (NH's 1024 x 1024 CCD)  \n",
    "\n",
    "`02998997004`: This is the MET time ('Mission Elapsed Time') -- seconds since launch in January 2006. SPICE will convert from METs, but we won't do that here.\n",
    "\n",
    "`0x630_sci` : Indicates this is a LORRI file, calibrated for science use.  \n",
    "\n",
    "`.fit`      : FITS extension\n"
   ]
  },
  {
   "cell_type": "code",
   "execution_count": 12,
   "metadata": {
    "collapsed": false
   },
   "outputs": [],
   "source": [
    "file_im = os.path.join('images', 'lor_0298997004_0x630_sci.fit')\n",
    "hdulist = fits.open(file_im)"
   ]
  },
  {
   "cell_type": "markdown",
   "metadata": {},
   "source": [
    "Read the FITS image's header, and display it.  \n",
    "\n",
    "The header is a text list of fields, which are metadata to accompany the image data. They are saved in the same file as the image data. You can access them by using python's dictionary commands, like below. \n",
    "\n",
    "There are several hundred different fields, including parameters like exposure time, instrument name, gain settings, target name, and so forth. We'll just use a couple here. You can explore the rest by scrolling around. Image readers like DS9 will also show you the full FITS header."
   ]
  },
  {
   "cell_type": "code",
   "execution_count": 13,
   "metadata": {
    "collapsed": false
   },
   "outputs": [
    {
     "data": {
      "text/plain": [
       "SIMPLE  =                    T / Written by IDL:  Wed Apr  6 04:34:04 2016      \n",
       "BITPIX  =                  -32 / IEEE single precision floating point           \n",
       "NAXIS   =                    2 / number of array dimensions                     \n",
       "NAXIS1  =                 1024 /Number of positions along axis 1                \n",
       "NAXIS2  =                 1024 /Number of positions along axis 2                \n",
       "EXTEND  =                    T                                                  \n",
       "MISSION = 'New Horizons'       / Mission name                                   \n",
       "HOSTNAME= 'NEW HORIZONS'       / Host name (PDS terminology)                    \n",
       "HOSTID  = 'NH      '           / Host ID (PDS terminology)                      \n",
       "INSTRU  = 'lor     '           / Instrument                                     \n",
       "APID    = '0x630   '           / Application ID of science data                 \n",
       "MET     =            298997004 / First packet MET (from instrument or HS bus)   \n",
       "METEND  =            298997004 / Last packet MET (from instrument or HS bus)    \n",
       "MET_HK  =            298997003 / MET from housekeeping used in header           \n",
       "HSCOMPR = 'LOSSLESS'           / High-speed compression mode                    \n",
       "OBSCOMPL= 'COMPLETE'           / Observation completion status                  \n",
       "MISSPACK=                    0 / Missing CCSDS packets (-1 = N/A)               \n",
       "STARTMET=         298997003.88 / Actual start time (in MET seconds)             \n",
       "STOPMET =         298997003.98 / Actual stop time (in MET seconds)              \n",
       "DURMET  =   0.1000000238418579 / Observation duration (in MET seconds)          \n",
       "METSRC  = 'HK_Info '           / Source of above three times                    \n",
       "EXPTIME =                  0.1 / Exposure time                                  \n",
       "ARCHDATE= '2015/193'           / Date of MOC archive file                       \n",
       "GRT     =     21011.6736698984 / Ground receipt time from STP                   \n",
       "DATE    = '2016-04-05T23:48:45' / Time file was created by SOC                  \n",
       "SOCVER  =                  6.3 / SOC pipeline software version                  \n",
       "SOCLOC  = 'TSOC    '           / SOC location where processed (TSOC or CSOC)    \n",
       "LOADID  = '15188   '           / Sequence load ID                               \n",
       "REQID   = 'PELR_NAV_C4_L1_CRIT_37_02' / Request ID                              \n",
       "REQREC  = 'SSR1    '           / Recorder used                                  \n",
       "REQCOMM = '---     '           / Request comment                                \n",
       "OPNAV   = 'CRIT    '           / Optical navigation type                        \n",
       "MSNPHASE= 'PLUTO   '           / Mission phase                                  \n",
       "MSNSUBPH= 'CORE    '           / Mission subphase                               \n",
       "SCIGRP  = 'Group 2 '           / Science group                                  \n",
       "SAPID   =                 1904 / Science Activity Plan ID                       \n",
       "SAPNAME = 'NAV_C4_L1_CRIT_37_02' / Science Activity Plan name                   \n",
       "SAPDESC = 'LORRI 1x1 of Charon' / Science Activity Plan description             \n",
       "VISITID =                43214 / Visit ID                                       \n",
       "VISITNAM= 'NAV_C4_L1_CRIT_37_02' / Visit name                                   \n",
       "VISITDSC= 'OpNav Campaign 4, LORRI 1X1' / Visit description                     \n",
       "RIDEALNG= 'NO      '           / Riding along with other instrument             \n",
       "TARGET  = 'CHARON  '           / Intended target                                \n",
       "TRGFOV00= 'CHARON;X=384;Y=513' / Actual target in view                          \n",
       "TRGFOVN =                    1 / Num targets in view                            \n",
       "THRUSTX = 'ENABLED '           / X thrusters enabled                            \n",
       "THRUSTY = 'ENABLED '           / Y thrusters enabled                            \n",
       "THRUSTZ = 'ENABLED '           / Z thrusters enabled                            \n",
       "SCANRATE=               -999.0 / G/C scan rate                                  \n",
       "RCMODE  = 'DISABLED'           / Relative control mode                          \n",
       "PNTMTHD = 'CB2     '           / Pointing method                                \n",
       "SCSPIN  = '3-Axis  '           / Spacecraft spin state                          \n",
       "SPCSEP  = '***GEOMETRY SECTION*************************************'            \n",
       "SPCQUAL = 'RECONSTRUCTED'      / QUALITY:  PREDICT (poor); RECONSTRUCTED        \n",
       "SPCSTAT = 'OK      '           / SPICE status [OK or INCOMPLETE ...]            \n",
       "SPCINST0= 'NH_LORRI'           / Starting SPICE Instrument or FRAME             \n",
       "SPCINSTR= 'NH_LORRI'           / Final SPICE Instrument or FRAME                \n",
       "SPCMET0 =         298997003.88 / RAW MET timestamp                              \n",
       "SPCMETDL=  0.05000001192092896 / [s] delta, (Mid-obs time) - (RAW MET)          \n",
       "SPCCBTNM= 'CHARON  '           / [text] Target input name                       \n",
       "SPCCBTID=                  901 / [SPICE ID] Target                              \n",
       "SPCSCLK0= '0298997003:44000'   / Spacecraft CLocK timestamp                     \n",
       "SPCINSID=               -98300 / [SPICE ID] Instrument                          \n",
       "SPCSCID =                  -98 / [SPICE ID] Spacecraft                          \n",
       "SPCSCNAM= 'NH_SPACECRAFT'      / [SPICE Name] Spacecraft                        \n",
       "SPCSCET =    489963153.9873368 / [s past J2000] Spacecraft mid-obs time, TDB    \n",
       "SPCSCLK = '3/0298997003:46500' / Mid-obs Spacecraft CLocK                       \n",
       "SPCSCDP =     14949850196500.0 / [SCLK milli-ticks] Spacecraft mid-obs time     \n",
       "SPCUTCID= '2015-193T08:51:25.804' / [ISO DOY] Spacecraft mid-obs time, UTC      \n",
       "SPCUTCAL= '2015-07-12T08:51:25.804' / [Cal d] Spacecraft mid-obs time, UTC      \n",
       "SPCUTCJD= 'JD 2457215.8690487' / [Julian d] Spacecraft mid-obs time, UTC        \n",
       "SPCPSEP = '******INSTRUMENT POINTING*******************************'            \n",
       "SPCBRRA =     270.514692919488 / [degrees] Boresight RA, EME J2000              \n",
       "SPCBRDEC=   -14.82368988894588 / [degrees] Boresight DEC, EME J2000             \n",
       "SPCEMEN =    115.9536733995579 / [degrees] EME J2k North Clk Angle, CW from UP  \n",
       "SPCPAXIN=    25.95367339955788 / [degrees] Instr +X Pos ang, E from EMEJ2k N    \n",
       "SPCPAYIN=    115.9536733995579 / [degrees] Instr +Y Pos ang, E from EMEJ2k N    \n",
       "SPCPAZIN=               -999.0 / [degrees] Instr +Z Pos ang, E from EMEJ2k N    \n",
       "SPCQA   =   0.6737173722749729 / cos(theta/2)     - Quaternion to transform     \n",
       "SPCQX   =  -0.5157048075825241 / sin(theta/2) * X -   instrument vectors        \n",
       "SPCQY   =  -0.3257695639872269 / sin(theta/2) * Y -   to EME J2000 vectors      \n",
       "SPCQZ   =  -0.4171662077766481 / sin(theta/2) * Z -   ***N.B. SPICE FORMAT      \n",
       "RATEX   =   -2.260344767153232 / [urad/s] Angular rate about inst frame +X axis \n",
       "RATEY   =   -9.560108694068699 / [urad/s] Angular rate about inst frame +Y axis \n",
       "RATEZ   =   -29.58284429566033 / [urad/s] Angular rate about inst frame +Z axis \n",
       "RATEXY  =     9.82368753110587 / [urad/s] Drift rate magnitude in inst XY Plane \n",
       "RATEYZ  =    31.08923213692629 / [urad/s] Drift rate magnitude in inst YZ Plane \n",
       "RATEXZ  =    29.66907202943294 / [urad/s] Drift rate magnitude in inst XZ Plane \n",
       "RATEMAG =    31.17129309685576 / [urad/s] Drift rate of Angular rate vector     \n",
       "SPCSCQA =   0.6406187483733676 / cos(theta/2)     - Quaternion to transform     \n",
       "SPCSCQX =  -0.2922565729206564 / sin(theta/2) * X -   Spacecraft vectors        \n",
       "SPCSCQY =  -0.4467725459133478 / sin(theta/2) * Y -   to EME J2000 vectors      \n",
       "SPCSCQZ =   0.5518949239079107 / sin(theta/2) * Z -   ***N.B. SPICE FORMAT      \n",
       "SPCTSEP0= '******Target:  Target->S/C****************************'              \n",
       "SPCTCB  = 'CHARON  '           / [SPICE name] Target name                       \n",
       "SPCTSCX =   -21352.00297847082 / [km] S/C vec wrt Target, X, EMEJ2000           \n",
       "SPCTSCY =    2446123.018179253 / [km] S/C vec wrt Target, Y                     \n",
       "SPCTSCZ =     648899.011367212 / [km] S/C vec wrt Target, Z                     \n",
       "SPCTSCVX=   0.2896895759722122 / [km/s] S/C vel vec wrt Target, X               \n",
       "SPCTSCVY=   -13.20339018773539 / [km/s] S/C vel vec wrt Target, Y               \n",
       "SPCTSCVZ=   -3.411714541776092 / [km/s] S/C vel vec wrt Target, Z               \n",
       "SPCTRANG=    2530818.771672701 / [km] S/C range to Target center                \n",
       "SPCTTGJD= 'JD 2457215.8689509' / [Julian d] Time at Target, UTC                 \n",
       "SPCTSEP1= '******Target:  Target->Sun****************************'              \n",
       "SPCTSOX =   -1196142365.906775 / [km] Sun vec wrt Target, X, EMEJ2000           \n",
       "SPCTSOY =    4444115091.402658 / [km] Sun vec wrt Target, Y                     \n",
       "SPCTSOZ =    1747415346.641576 / [km] Sun vec wrt Target, Z                     \n",
       "SPCTSOVX=   -5.247097333594645 / [km/s] Sun vel vec wrt Target, X               \n",
       "SPCTSOVY=  -0.6773524787427901 / [km/s] Sun vel vec wrt Target, Y               \n",
       "SPCTSOVZ=    1.441687210877163 / [km/s] Sun vel vec wrt Target, Z               \n",
       "SPCTSORN=    4922842258.170416 / [km] Sun range to Target center                \n",
       "SPCTSEP2= '******Target:  Target->EarthObserver****************************'    \n",
       "SPCTEOX =   -1145091743.936353 / [km] Earth observer vec wrt Target, X, EMEJ2000\n",
       "SPCTEOY =    4312673788.479104 / [km] Earth obs vec wrt Target, Y               \n",
       "SPCTEOZ =    1690491484.139033 / [km] Earth obs vec wrt Target, Z               \n",
       "SPCTEOVX=    22.32864530747835 / [km/s] Earth obs vel vec wrt Target, X         \n",
       "SPCTEOVY=    8.419043214112303 / [km/s] Earth obs vel vec wrt Target, Y         \n",
       "SPCTEOVZ=     5.38558341190885 / [km/s] Earth obs vel vec wrt Target, Z         \n",
       "SPCTEORN=    4771598449.766335 / [km] Earth observer range to Target center     \n",
       "SPCTEOJD= 'JD 2457216.0531678' / [Julian d] Time at Earth observer              \n",
       "SPCTSEPB= '******Target:  Body-fixed info****************************'          \n",
       "SPCTSCLA=    42.92705025616588 / [degrees] planetocentric Sub-S/C latitude      \n",
       "SPCTSCLO=    85.86856327050002 / [degrees] planetocentric Sub-S/C EAST longitude\n",
       "SPCTSOLA=    51.54667647346844 / [degrees] planetocentric Sub-Solar latitude    \n",
       "SPCTSOLO=    67.53977952114367 / [degrees] planetocentric Sub-Solar EAST long.  \n",
       "SPCTNAZ =    229.4143078123255 / [degrees] Target North Azimuth, CW from UP     \n",
       "SPCSEPS = '******S/C->SUN****************************************'              \n",
       "SPCSSCX =   -1196202635.675395 / [km] Sun vec wrt S/C observer, X, EMEJ2000     \n",
       "SPCSSCY =    4441640398.149463 / [km] Sun vec wrt S/C obs, Y                    \n",
       "SPCSSCZ =     1746783269.55754 / [km] Sun vec wrt S/C obs, Z                    \n",
       "SPCSSCVX=   -5.536786912291508 / [km/s] Sun obs vel vec wrt S/C obs, X          \n",
       "SPCSSCVY=    12.52603770970777 / [km/s] Sun vel vec wrt S/C obs, Y              \n",
       "SPCSSCVZ=    4.853401753013062 / [km/s] Sun vel vec wrt S/C obs, Z              \n",
       "SPCSSCRN=    4920398557.319946 / [km] S/C observer range to sun center          \n",
       "SPCSSCJD= 'JD 2457215.6790870' / [Julian d] Time at Sun                         \n",
       "SPCSEPE = '******EARTH->S/C****************************************'            \n",
       "SPCESCX =    1145869680.287711 / [km] S/C observer vec wrt earth, X, EMEJ2000   \n",
       "SPCESCY =    -4309967916.79286 / [km] S/C obs vec wrt earth, Y                  \n",
       "SPCESCZ =   -1689701672.908201 / [km] S/C obs vec wrt earth, Z                  \n",
       "SPCESCVX=   -22.09944639057973 / [km/s] S/C obs vel vec wrt earth, X            \n",
       "SPCESCVY=   -21.46362181879687 / [km/s] S/C obs vel vec wrt earth, Y            \n",
       "SPCESCVZ=   -8.728541248126543 / [km/s] S/C obs vel vec wrt earth, Z            \n",
       "SPCESCRN=    4769059919.042244 / [km] S/C observer range to earth center        \n",
       "SPCESCJD= 'JD 2457215.6849298' / [Julian d] Time at Earth                       \n",
       "SPCKSEP = '******SPICE KERNELS*************************************'            \n",
       "SPCKNUM =                   42 / COUNT OF LOADED SPICE KERNELS:                 \n",
       "SPCK0001= 'naif0011.tls'       / SPICE kernel 0001                              \n",
       "SPCK0002= 'new-horizons_1142.tsc' / SPICE kernel 0002                           \n",
       "SPCK0003= 'nh_stars_kbo_centaur_ppinp.tpc' / SPICE kernel 0003                  \n",
       "SPCK0004= 'pck00010.tpc'       / SPICE kernel 0004                              \n",
       "SPCK0005= 'nh_v220.tf'         / SPICE kernel 0005                              \n",
       "SPCK0006= 'nh_allinstruments_v002.ti' / SPICE kernel 0006                       \n",
       "SPCK0007= 'nh_alice_v200.ti'   / SPICE kernel 0007                              \n",
       "SPCK0008= 'nh_lorri_v201.ti'   / SPICE kernel 0008                              \n",
       "SPCK0009= 'nh_pepssi_v110.ti'  / SPICE kernel 0009                              \n",
       "SPCK0010= 'nh_ralph_v100.ti'   / SPICE kernel 0010                              \n",
       "SPCK0011= 'nh_rex_v100.ti'     / SPICE kernel 0011                              \n",
       "SPCK0012= 'nh_sdc_v101.ti'     / SPICE kernel 0012                              \n",
       "SPCK0013= 'nh_swap_v200.ti'    / SPICE kernel 0013                              \n",
       "SPCK0014= 'nh_soc_misc_v001.tf' / SPICE kernel 0014                             \n",
       "SPCK0015= 'sb-2002jf56-2.bsp'  / SPICE kernel 0015                              \n",
       "SPCK0016= 'jup260.bsp'         / SPICE kernel 0016                              \n",
       "SPCK0017= 'kbo_centaur_horizons_20131129.bsp' / SPICE kernel 0017               \n",
       "SPCK0018= 'nh_extras.bsp'      / SPICE kernel 0018                              \n",
       "SPCK0019= 'nh_stars.bsp'       / SPICE kernel 0019                              \n",
       "SPCK0020= 'NavPE_de433_od123.bsp' / SPICE kernel 0020                           \n",
       "SPCK0021= 'NavSE_plu047_od123.bsp' / SPICE kernel 0021                          \n",
       "SPCK0022= 'nh_nep_ura_000.bsp' / SPICE kernel 0022                              \n",
       "SPCK0023= 'nh_recon_e2j_v1.bsp' / SPICE kernel 0023                             \n",
       "SPCK0024= 'nh_recon_j2sep07_prelimv1.bsp' / SPICE kernel 0024                   \n",
       "SPCK0025= 'nh_recon_pluto_od122_v01.bsp' / SPICE kernel 0025                    \n",
       "SPCK0026= 'merged_nhpc_2006_v001.bc' / SPICE kernel 0026                        \n",
       "SPCK0027= 'merged_nhpc_2007_v001.bc' / SPICE kernel 0027                        \n",
       "SPCK0028= 'merged_nhpc_2008_v001.bc' / SPICE kernel 0028                        \n",
       "SPCK0029= 'merged_nhpc_2009_v001.bc' / SPICE kernel 0029                        \n",
       "SPCK0030= 'merged_nhpc_2010_v001.bc' / SPICE kernel 0030                        \n",
       "SPCK0031= 'merged_nhpc_2011_v001.bc' / SPICE kernel 0031                        \n",
       "SPCK0032= 'merged_nhpc_2012_v001.bc' / SPICE kernel 0032                        \n",
       "SPCK0033= 'merged_nhpc_2013_v001.bc' / SPICE kernel 0033                        \n",
       "SPCK0034= 'merged_nhpc_2014_v001.bc' / SPICE kernel 0034                        \n",
       "SPCK0035= 'merged_nhpc_2015_v038.bc' / SPICE kernel 0035                        \n",
       "SPCK0036= 'merged_nhpc_2016_01_v019.bc' / SPICE kernel 0036                     \n",
       "SPCK0037= 'merged_nhpc_2016_02_v018.bc' / SPICE kernel 0037                     \n",
       "SPCK0038= 'merged_nhpc_2016_03_v005.bc' / SPICE kernel 0038                     \n",
       "SPCK0039= 'nhpc_2016_092_03.bc' / SPICE kernel 0039                             \n",
       "SPCK0040= 'nhpc_2016_093_02.bc' / SPICE kernel 0040                             \n",
       "SPCK0041= 'nhpc_2016_094_02.bc' / SPICE kernel 0041                             \n",
       "SPCK0042= 'nhpc_2016_095_01.bc' / SPICE kernel 0042                             \n",
       "WCSSEP  = '******World Coordinate System keywords******************'            \n",
       "CRPIX1  =                511.5 / [WCS PIXEL] x-coordinate of reference pixel    \n",
       "CRPIX2  =                511.5 / [WCS PIXEL] y-coordinate of reference pixel    \n",
       "CD1_1   = 0.0001244623559005475 /  dRA/dNAXIS1 linear transform. paramam.       \n",
       "CD1_2   = 0.0002557101911902959 /  dRA/dNAXIS2 linear transform. paramam.       \n",
       "CD2_1   = 0.0002557101911902959 / dDEC/dNAXIS1 linear transform. paramam.       \n",
       "CD2_2   = -0.0001244623559005475 / dDEC/dNAXIS2 linear transform. paramam.      \n",
       "CTYPE1  = 'RA---TAN-SIP'       / Coordinate type for the first axis             \n",
       "CTYPE2  = 'DEC--TAN-SIP'       / Coordinate type for the second axis            \n",
       "RADESYS = 'ICRS    '           / Coordinate system definition                   \n",
       "EQUINOX =               2000.0 / Epoch of mean equator and equinox              \n",
       "CUNIT1  = 'deg     '           / Units for first axis                           \n",
       "CUNIT2  = 'deg     '           / Units for second axis                          \n",
       "CRVAL1  =     270.514692919488 / [deg] Right Ascension at reference pixel       \n",
       "CRVAL2  =   -14.82368988894588 / [deg] Declination at reference pixel           \n",
       "A_ORDER =                    3 / Forward SIP; Cubic                             \n",
       "A_3_0   = -4.5683524653106E-09 / Forward SIP; x**3 x y**0                       \n",
       "A_2_1   =  3.6773993329229E-13 / Forward SIP; x**2 x y**1                       \n",
       "A_1_2   = -4.550660817442101E-09 / Forward SIP; x**1 x y**2                     \n",
       "A_0_3   = -4.826382722745001E-16 / Forward SIP; x**0 x y**3                     \n",
       "A_2_0   =  3.7132883452972E-07 / Forward SIP; x**2 x y**0                       \n",
       "A_1_1   =  2.4489911491959E-07 / Forward SIP; x**1 x y**1                       \n",
       "A_0_2   = -3.8995992016687E-10 / Forward SIP; x**0 x y**2                       \n",
       "B_ORDER =                    3 / Forward SIP; Cubic                             \n",
       "B_3_0   = -4.8263374371619E-16 / Forward SIP; x**3 x y**0                       \n",
       "B_2_1   = -4.550504716094301E-09 / Forward SIP; x**2 x y**1                     \n",
       "B_1_2   =  3.6773991492864E-13 / Forward SIP; x**1 x y**2                       \n",
       "B_0_3   = -4.5685088916275E-09 / Forward SIP; x**0 x y**3                       \n",
       "B_2_0   = -2.5764535470748E-10 / Forward SIP; x**2 x y**0                       \n",
       "B_1_1   =  3.7063022991452E-07 / Forward SIP; x**1 x y**1                       \n",
       "B_0_2   =  2.4536068067188E-07 / Forward SIP; x**0 x y**2                       \n",
       "AP_ORDER=                    3 / Reverse SIP; Cubic                             \n",
       "AP_3_0  =  4.5900372459772E-09 / Reverse SIP; x**3 x y**0                       \n",
       "AP_1_2  =  4.5900372459772E-09 / Reverse SIP; x**1 x y**2                       \n",
       "AP_2_0  = -3.7439988768003E-07 / Reverse SIP; x**2 x y**0                       \n",
       "AP_1_1  = -2.4738992578302E-07 / Reverse SIP; x**1 x y**1                       \n",
       "BP_ORDER=                    3 / Reverse SIP; Cubic                             \n",
       "BP_2_1  =  4.5900372459772E-09 / Reverse SIP; x**2 x y**1                       \n",
       "BP_0_3  =  4.5900372459772E-09 / Reverse SIP; x**0 x y**3                       \n",
       "BP_1_1  = -3.7439988768003E-07 / Reverse SIP; x**1 x y**1                       \n",
       "BP_0_2  = -2.4738992578302E-07 / Reverse SIP; x**0 x y**2                       \n",
       "PACMMNT0= '*** Position angles (PAs):  XYZ axes, degrees east of EMEJ2k North'  \n",
       "PACMMNT1= '***   on plane perpendicular to boresight; -999 => Boresight'        \n",
       "PA_XINST=    25.95367339955788 / [degrees] PA +X, East of EMEJ2k North          \n",
       "PA_YINST=    115.9536733995579 / [degrees] PA +Y, East of EMEJ2k North          \n",
       "PA_ZINST=               -999.0 / [degrees] PA +Z, East of EMEJ2k North          \n",
       "PA_SUN  =    295.4217888960695 / [degrees] PA of SUN, East of EMEJ2k North      \n",
       "PA_SUN_X=    269.4681154965115 / [degrees] PA from +X to Sun, East of EMEJ2k N  \n",
       "PA_SUN_Y=    179.4681154965117 / [degrees] PA from +Y to Sun, East of EMEJ2k N  \n",
       "PA_SUN_Z=               -999.0 / [degrees] PA from +Z to Sun, East of EMEJ2k N  \n",
       "ELCMMNT0= '*** Elongation angles: Angular separation btw vector to'             \n",
       "ELCMMNT1= '***   the target and the instrument line of sight.'                  \n",
       "SOL_ELON=    164.9189365099157 / [degrees] Angle btw SUN and Instr Boresight    \n",
       "EAR_ELON=    165.0954194529138 / [degrees] Angle btw EARTH and Instr Boresight  \n",
       "HIGHSSEP= '********************************************************'            \n",
       "WINDOWX =                    0 / X origin of window                             \n",
       "WINDOWY =                    0 / Y origin of window                             \n",
       "WINDOWW =                 1028 / Window width                                   \n",
       "WINDOWH =                    0 / Window height                                  \n",
       "CPLANE  =                    0 / Color/plane number                             \n",
       "INSTSSEP= '********************************************************'            \n",
       "LVPS_00 =                  711 / EPU +5 voltage                                 \n",
       "LVPS_01 =                  143 / EPU +5 current                                 \n",
       "LVPS_02 =                  718 / FPU +15 voltage                                \n",
       "LVPS_03 =                  120 / FPU +15 current                                \n",
       "LVPS_04 =                  714 / FPU +6 voltage                                 \n",
       "LVPS_05 =                  169 / FPU +6 current                                 \n",
       "LVPS_06 =                    0 / FPU heater current                             \n",
       "LVPS_07 =                  701 / EPU +2.5 voltage                               \n",
       "LVPS_08 =                  486 / Intermediate ring temperature                  \n",
       "LVPS_09 =                  499 / Mounting foot-top temperature                  \n",
       "LVPS_10 =                  486 / M2 mirror mount temperature                    \n",
       "LVPS_11 =                  431 / Radiator temperature                           \n",
       "LVPS_12 =                  496 / Baffle-aft temperature                         \n",
       "LVPS_13 =                  469 / Baffle-forward temperature                     \n",
       "LVPS_14 =                  485 / M1 mirror support temperature                  \n",
       "LVPS_15 =                  488 / M1 mirror temperature                          \n",
       "FPU_0   =                 2285 / CCD temperature                                \n",
       "FPU_1   =                26613 / M1 V/F temperature                             \n",
       "FPU_2   =                28180 / M2 V/F temperature                             \n",
       "FPU_3   =                29235 / FPU board V/F temperature                      \n",
       "EXPOSURE=                  100 / Exposure time (1 ms)                           \n",
       "CLMP2   =                    0 / Calibration lamp #2 level                      \n",
       "CLMP1   =                    0 / Calibration lamp #1 level                      \n",
       "TEMPCVRT=                    1 / Temperature convers enable  0=disable,1=enable \n",
       "CLMP2PE =                    0 / Cal. Lamp #2 Power Enable  0=on, 1=off         \n",
       "CLMP1PE =                    0 / Cal. Lamp #1 Power Enable  0=on, 1=off         \n",
       "SOURCE  =                    0 / 0=CCD,1=FPUp1,2=FPUp2,3=DPUp1,4=DPUp2          \n",
       "FORMAT  =                    0 / Image format  0=1x1, 1=4x4                     \n",
       "EXPMODE =                    0 / Exposure Mode  0=Manual, 1=Automatic           \n",
       "HDRSRC  = 'IMAGE_DESCRIPTOR'   / Source of housekeeping values above            \n",
       "WINX_000=                    0 / WINDOWX history                                \n",
       "WINY_000=                    0 / WINDOWY history                                \n",
       "WINW_000=                 1028 / WINDOWW history                                \n",
       "WINH_000=                    0 / WINDOWH history                                \n",
       "APID_000= '0x630   '           / APID history                                   \n",
       "GRT__000=     21011.6736698984 / GRT history                                    \n",
       "ARCH_000= '2015/193'           / ARCHDATE history                               \n",
       "COMMENT *********************************************************               \n",
       "COMMENT *** LORRI Level 2 software name and version info      ***               \n",
       "COMMENT *********************************************************               \n",
       "L2_SWNAM= 'lorri_level2_pipeline' /Level 2 calibration software                 \n",
       "L2_SWVER= '1.1.3   '           /software version tag                            \n",
       "COMMENT *********************************************************               \n",
       "COMMENT *** LORRI Level 2 software logic flow control flags   ***               \n",
       "COMMENT *********************************************************               \n",
       "IMGSUBTR= 'OMIT    '           / image subtraction step                         \n",
       "BIASCORR= 'PERFORM '           / bias subtraction step                          \n",
       "FILLCORR= 'PERFORM '           / fill missing data                              \n",
       "SLINCORR= 'OMIT    '           / signal linearization step                      \n",
       "CTICORR = 'OMIT    '           / charge transfer inefficiency step              \n",
       "DARKCORR= 'OMIT    '           / dark subtraction step                          \n",
       "SMEARCOR= 'PERFORM '           / smear removal step                             \n",
       "FLATCORR= 'PERFORM '           / flat-fielding step                             \n",
       "GEOMCORR= 'OMIT    '           / geometric correction step                      \n",
       "MASKCORR= 'PERFORM '           / mask missing data                              \n",
       "ABSCCORR= 'PERFORM '           / absolute calibration step                      \n",
       "COMPERR = 'PERFORM '           / compute error estimate                         \n",
       "COMPQUAL= 'PERFORM '           / compute quality flags                          \n",
       "COMMENT *********************************************************               \n",
       "COMMENT *** LORRI Level 2 Reference Filename                  ***               \n",
       "COMMENT *********************************************************               \n",
       "REFDEBIA= 'sap_006_combined_100img_1x1.fit' / debias image filename             \n",
       "REFFLAT = 'cflat_grnd_SFA_20050309_v2.fit' / flat field image filename          \n",
       "REFDEAD = 'dead_ground_1x1_synthetic.fit' / dead pixel image filename           \n",
       "REFHOT  = 'hot_ground_1x1_synthetic.fit' / hot pixel image filename             \n",
       "REFSUBIM= '        '           / subtraction image filename                     \n",
       "COMMENT *********************************************************               \n",
       "COMMENT *** LORRI Level 2 Absolute Calibration Parameters     ***               \n",
       "COMMENT *** Rxxx keyword units=(DN/s/pixel)/(erg/cm^2/s/A/sr) ***               \n",
       "COMMENT *** Pxxx keyword units=(DN/s)/(erg/cm^2/s/A)          ***               \n",
       "COMMENT *********************************************************               \n",
       "BIASMTHD= 'median of dark column data' / Method used to calculate bias value    \n",
       "BIASLEVL=        539.000000000 / median bias level of dark columns, units=DN    \n",
       "RDNOISE =        1.10000000000 / Read noise, units=DN                           \n",
       "CCDGAIN =        22.0000000000 / CCD gain, units=e/DN                           \n",
       "PIVOT   =        6076.20019531 / LORRI pivot wavelength. units=angstroms        \n",
       "RSOLAR  =        266400.000000 / Conv to radiance for solar source              \n",
       "RPLUTO  =        257500.000000 / Conv to radiance for pluto source              \n",
       "RPHOLUS =        324300.000000 / Conv to radiance for 5145 pholus source        \n",
       "RCHARON =        263000.000000 / Conv to radiance for charon source             \n",
       "RJUPITER=        234700.000000 / Conv to radiance for jupiter source            \n",
       "PPLUTO  =    1.03000005170E+16 / Conv to irradiance for pluto source            \n",
       "PSOLAR  =    1.06600003807E+16 / Conv to irradiance for solar source            \n",
       "PPHOLUS =    1.29700002225E+16 / Conv to irradiance for 5145 pholus source      \n",
       "PCHARON =    1.05199994793E+16 / Conv to irradiance for charon source           \n",
       "PJUPITER=    9.38600033786E+15 / Conv to irradiance for jupiter source          \n",
       "PHOTZPT =        18.9400000000 / Zero point for visual magnitude, V             \n",
       "COMMENT *********************************************************               \n",
       "COMMENT *** LORRI Level 2 Calibrated telemetry items          ***               \n",
       "COMMENT *********************************************************               \n",
       "EPU_P5VO=        5.04305504857 / EPU +5 voltage. units=Volts                    \n",
       "EPU_P5CU=       0.143143000000 / EPU +5 current. units=Amps                     \n",
       "FPU_P15V=        14.9797220368 / FPU +15 voltage. units=Volts                   \n",
       "FPU_P15C=      0.0610920000000 / FPU +15 current. units=Amps                    \n",
       "FPU_P6_V=        6.04818995353 / FPU +6 voltage. units=Volts                    \n",
       "FPU_P6_C=       0.169169000000 / FPU +6 current. units=Amps                     \n",
       "FPU_HTRC=        0.00000000000 / FPU heater current. units=Amps                 \n",
       "EPU_25PV=        2.50585987492 / EPU +2.5 voltage. units=Volts                  \n",
       "RINGTEMP=       -70.8007466057 / Intermediate ring temp. units=celsius          \n",
       "MFOOTTMP=       -66.1713738560 / Mounting foot-top temp. units=celsius          \n",
       "M2MNTTMP=       -70.8007466057 / M2 mirror mount temp. units=celsius            \n",
       "RADTEMP =       -90.3808435418 / Radiator temp. units=celsius                   \n",
       "BAFATEMP=       -67.2398321861 / Baffle-aft temp. units=celsius                 \n",
       "BAFFTEMP=       -76.8527979454 / Baffle-forward temp. units=celsius             \n",
       "M1SUPTMP=       -71.1567934932 / M1 mirror support temp. units=celsius          \n",
       "M1MIRTMP=       -70.0886308310 / M1 mirror temp. units=celsius                  \n",
       "CCDTEMP =       -80.7070000000 / CCD temperature. units=celsius                 \n",
       "M1VFTEMP=       -69.5688289000 / M1 V/F temperature. units=celsius              \n",
       "M2VFTEMP=       -70.2894900000 / M2 V/F temperature. units=celsius              \n",
       "FPUBTEMP=        26.9802800000 / FPU board V/F temp. units=celsius              \n",
       "STEMPCVR= 'ENABLE  '           / Temperature conversion enable                  \n",
       "SCLMP2PE= 'OFF     '           / Cal lamp 2 power enable                        \n",
       "SCLMP1PE= 'OFF     '           / Cal lamp 2 power enable                        \n",
       "SSOURCE = 'CCD     '           / Image source                                   \n",
       "SFORMAT = '1X1     '           / Image format                                   \n",
       "SEXPMODE= 'MANUAL  '           / Exposure mode                                  \n",
       "PDUNAME = 'Level 2 LORRI image' /                                               "
      ]
     },
     "execution_count": 13,
     "metadata": {},
     "output_type": "execute_result"
    }
   ],
   "source": [
    "header = hdulist['PRIMARY'].header  # 'PRIMARY' is the main FITS extension. We always use that one.\n",
    "header  # Print the header to the screen."
   ]
  },
  {
   "cell_type": "markdown",
   "metadata": {},
   "source": [
    "Read several fields from the header."
   ]
  },
  {
   "cell_type": "code",
   "execution_count": 14,
   "metadata": {
    "collapsed": false
   },
   "outputs": [],
   "source": [
    "sapdesc = header['SAPDESC'] # Read the Observation description (keyword SAPDESC) from FITS header\n",
    "et      = header['SPCSCET'] # Read the Ephemeris time (keyword SPSCET = 'Spacecraft ET') from FITS header\n",
    "target  = header['TARGET']  # Read the Target from the FITS header"
   ]
  },
  {
   "cell_type": "code",
   "execution_count": 17,
   "metadata": {
    "collapsed": false
   },
   "outputs": [
    {
     "name": "stdout",
     "output_type": "stream",
     "text": [
      "LORRI 1x1 of Charon\n"
     ]
    }
   ],
   "source": [
    "print sapdesc"
   ]
  },
  {
   "cell_type": "code",
   "execution_count": 20,
   "metadata": {
    "collapsed": false
   },
   "outputs": [],
   "source": [
    "(vec_targ,lt) = cspice.spkezr(target, et, 'J2000', 'LT', 'New Horizons')"
   ]
  },
  {
   "cell_type": "markdown",
   "metadata": {},
   "source": [
    "Calculate distance to this target at this time."
   ]
  },
  {
   "cell_type": "code",
   "execution_count": 22,
   "metadata": {
    "collapsed": false
   },
   "outputs": [
    {
     "data": {
      "text/plain": [
       "2530818.7716727"
      ]
     },
     "execution_count": 22,
     "metadata": {},
     "output_type": "execute_result"
    }
   ],
   "source": [
    "(vec_targ,lt) = cspice.spkezr(target, et, 'J2000', 'LT', 'New Horizons')\n",
    "dist_targ = cspice.vnorm(vec_targ[0:3])\n",
    "dist_targ"
   ]
  },
  {
   "cell_type": "markdown",
   "metadata": {},
   "source": [
    "Finally, read the image itself, and plot it to the screen. Use the Observation Description from above."
   ]
  },
  {
   "cell_type": "code",
   "execution_count": 27,
   "metadata": {
    "collapsed": false
   },
   "outputs": [
    {
     "data": {
      "image/png": "[encoded data removed]",
      "text/plain": [
       "<matplotlib.figure.Figure at 0x11a96a2d0>"
      ]
     },
     "metadata": {},
     "output_type": "display_data"
    }
   ],
   "source": [
    "im = hdulist['PRIMARY'].data # Read the data into an array.\n",
    "plt.imshow(im)               # Show the image to the screen\n",
    "plt.set_cmap('Greys_r')      # Set the colormap to grey-scale\n",
    "\n",
    "# Make a plot with a title, converting the ET into a human-readable UTC time\n",
    "# The 'C' and 0 arguments specify the format and precision of the UTC time.\n",
    "\n",
    "plt.title(\"{}, {}\".format(sapdesc, cspice.et2utc(et, 'C', 0)))\n",
    "plt.show()"
   ]
  },
  {
   "cell_type": "markdown",
   "metadata": {},
   "source": [
    "Zoom and crop the image a bit."
   ]
  },
  {
   "cell_type": "code",
   "execution_count": 28,
   "metadata": {
    "collapsed": false
   },
   "outputs": [
    {
     "data": {
      "image/png": "[encoded data removed]",
      "text/plain": [
       "<matplotlib.figure.Figure at 0x11b3e7a10>"
      ]
     },
     "metadata": {},
     "output_type": "display_data"
    }
   ],
   "source": [
    "plt.imshow(im[450:600,320:470])  # Show a subset of the image\n",
    "plt.title(\"{} from {:.3f} AU\".format(target, dist_targ / km_per_au))\n",
    "plt.show()"
   ]
  },
  {
   "cell_type": "code",
   "execution_count": null,
   "metadata": {
    "collapsed": true
   },
   "outputs": [],
   "source": []
  }
 ],
 "metadata": {
  "kernelspec": {
   "display_name": "Python 2",
   "language": "python",
   "name": "python2"
  },
  "language_info": {
   "codemirror_mode": {
    "name": "ipython",
    "version": 2
   },
   "file_extension": ".py",
   "mimetype": "text/x-python",
   "name": "python",
   "nbconvert_exporter": "python",
   "pygments_lexer": "ipython2",
   "version": "2.7.11"
  }
 },
 "nbformat": 4,
 "nbformat_minor": 0
}
