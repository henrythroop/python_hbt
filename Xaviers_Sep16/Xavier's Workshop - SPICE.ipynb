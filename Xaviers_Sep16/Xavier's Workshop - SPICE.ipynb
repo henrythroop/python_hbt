{
 "cells": [
  {
   "cell_type": "markdown",
   "metadata": {},
   "source": [
    "Trial #2. This is what they will come up with in the end. A plot of velocity vs. time, and distance vs. time. Use SPICE to generate it. I'm not sure... can we get Pluto's mass from this? And by getting the C/A distance? Probably, not sure.  \n",
    "\n",
    "Make a table (or plots) of time, image #, Pluto distance, satellite distance, etc. velocity, resolution, etc.\n",
    "\n",
    "Q: What is C/A distance for Pluto? For each of the satellites?\n",
    "\n",
    "Using the table, find an image taken near C/A of each of the satellites.\n",
    "\n",
    "Make a plot of satellite distance vs. time. \n",
    "\n",
    "Make a plot of velocity vs. time  \n",
    "\n",
    "Make plot of phase angle vs. time\n",
    "\n",
    "Measure Pluto's diameter. It is unresolved from earth, so this is a real measurement. \n",
    "\n",
    "Display some images. Scale them.\n",
    "\n",
    "Find the image closest to CA time, by printing a table of times.\n",
    "\n",
    "Measure the position of a satellite. Well, they could do it in pixel position. Converting to RA/Dec is hard.\n",
    "\n"
   ]
  },
  {
   "cell_type": "markdown",
   "metadata": {
    "collapsed": true
   },
   "source": [
    "Import the necessary Python libraries"
   ]
  },
  {
   "cell_type": "code",
   "execution_count": 22,
   "metadata": {
    "collapsed": false
   },
   "outputs": [],
   "source": [
    "import numpy as np\n",
    "import matplotlib.pyplot as plt\n",
    "import cspice\n",
    "import astropy.units as u"
   ]
  },
  {
   "cell_type": "markdown",
   "metadata": {},
   "source": [
    "Tell SPICE to import the necessary kernel files. A list of kernel files is provided in the kernels.tm file... TM = 'text metakernel'."
   ]
  },
  {
   "cell_type": "code",
   "execution_count": 6,
   "metadata": {
    "collapsed": false
   },
   "outputs": [],
   "source": [
    "file_kernels = 'kernels.tm'\n",
    "cspice.furnsh(file_kernels)"
   ]
  },
  {
   "cell_type": "markdown",
   "metadata": {},
   "source": [
    "Now convert from a UTC time into the spacecraft ET ('ephemeris time'). ET is a floating point number, which starts at roughly the start of the US spaced program (1957 AD). Many SPICE routines use ET (rather than UTC) for consistency - it is a lot easier to do math on a floating-point value, than convert a string back and forth many times."
   ]
  },
  {
   "cell_type": "code",
   "execution_count": 8,
   "metadata": {
    "collapsed": false
   },
   "outputs": [],
   "source": [
    "utc = '2015 Jul 14 00:00:00'\n",
    "et = cspice.utc2et(utc)"
   ]
  },
  {
   "cell_type": "markdown",
   "metadata": {},
   "source": [
    "SPKEZR ('Spacecraft Kernel, Easier') is SPICE's main position reader. It takes as input the target name, the ET, the frame (always use 'J2000'), the aberration correction, and the observer name.\n",
    "\n",
    "For instance, to find the distance between Mars and Earth on 2015 1 July, we can do:"
   ]
  },
  {
   "cell_type": "code",
   "execution_count": 18,
   "metadata": {
    "collapsed": true
   },
   "outputs": [],
   "source": [
    "et = cspice.utc2et('1 Jul 2015 00:00:00')\n",
    "(vec,lt) = cspice.spkezr('Mars', et, 'J2000', 'LT', 'Earth')"
   ]
  },
  {
   "cell_type": "code",
   "execution_count": 25,
   "metadata": {
    "collapsed": false
   },
   "outputs": [
    {
     "ename": "AttributeError",
     "evalue": "'Quantity' object has no 'u' member",
     "output_type": "error",
     "traceback": [
      "\u001b[0;31m---------------------------------------------------------------------------\u001b[0m",
      "\u001b[0;31mAttributeError\u001b[0m                            Traceback (most recent call last)",
      "\u001b[0;32m<ipython-input-25-7e8d215fa3b6>\u001b[0m in \u001b[0;36m<module>\u001b[0;34m()\u001b[0m\n\u001b[1;32m      1\u001b[0m \u001b[0mdist\u001b[0m \u001b[0;34m=\u001b[0m \u001b[0mcspice\u001b[0m\u001b[0;34m.\u001b[0m\u001b[0mvnorm\u001b[0m\u001b[0;34m(\u001b[0m\u001b[0mvec\u001b[0m\u001b[0;34m[\u001b[0m\u001b[0;36m0\u001b[0m\u001b[0;34m:\u001b[0m\u001b[0;36m3\u001b[0m\u001b[0;34m]\u001b[0m\u001b[0;34m)\u001b[0m\u001b[0;34m*\u001b[0m\u001b[0mu\u001b[0m\u001b[0;34m.\u001b[0m\u001b[0mkm\u001b[0m\u001b[0;34m\u001b[0m\u001b[0m\n\u001b[0;32m----> 2\u001b[0;31m \u001b[0;32mprint\u001b[0m \u001b[0;34m\"Distance = {}\"\u001b[0m\u001b[0;34m.\u001b[0m\u001b[0mformat\u001b[0m\u001b[0;34m(\u001b[0m\u001b[0mdist\u001b[0m\u001b[0;34m.\u001b[0m\u001b[0mu\u001b[0m\u001b[0;34m.\u001b[0m\u001b[0mto\u001b[0m\u001b[0;34m(\u001b[0m\u001b[0mAU\u001b[0m\u001b[0;34m)\u001b[0m\u001b[0;34m)\u001b[0m\u001b[0;34m\u001b[0m\u001b[0m\n\u001b[0m",
      "\u001b[0;32m/Users/throop/anaconda/lib/python2.7/site-packages/astropy-1.2.dev14959-py2.7-macosx-10.5-x86_64.egg/astropy/units/quantity.pyc\u001b[0m in \u001b[0;36m__getattr__\u001b[0;34m(self, attr)\u001b[0m\n\u001b[1;32m    751\u001b[0m                 \"'{0}' object has no '{1}' member\".format(\n\u001b[1;32m    752\u001b[0m                     \u001b[0mself\u001b[0m\u001b[0;34m.\u001b[0m\u001b[0m__class__\u001b[0m\u001b[0;34m.\u001b[0m\u001b[0m__name__\u001b[0m\u001b[0;34m,\u001b[0m\u001b[0;34m\u001b[0m\u001b[0m\n\u001b[0;32m--> 753\u001b[0;31m                     attr))\n\u001b[0m\u001b[1;32m    754\u001b[0m \u001b[0;34m\u001b[0m\u001b[0m\n\u001b[1;32m    755\u001b[0m         \u001b[0;32mdef\u001b[0m \u001b[0mget_virtual_unit_attribute\u001b[0m\u001b[0;34m(\u001b[0m\u001b[0;34m)\u001b[0m\u001b[0;34m:\u001b[0m\u001b[0;34m\u001b[0m\u001b[0m\n",
      "\u001b[0;31mAttributeError\u001b[0m: 'Quantity' object has no 'u' member"
     ]
    }
   ],
   "source": [
    "dist = cspice.vnorm(vec[0:3])*u.km\n",
    "print \"Distance = {}\".format(dist.u.to(AU))"
   ]
  },
  {
   "cell_type": "code",
   "execution_count": 15,
   "metadata": {
    "collapsed": false
   },
   "outputs": [],
   "source": [
    "(vector, lt) = cspice.spkezr('Pluto', et, 'J2000', 'LT', 'New Horizons')\n",
    "(vector_earth, lt) = cspice.spkezr('Pluto', et, 'J2000', 'LT', 'Earth')"
   ]
  },
  {
   "cell_type": "code",
   "execution_count": 14,
   "metadata": {
    "collapsed": false
   },
   "outputs": [
    {
     "name": "stdout",
     "output_type": "stream",
     "text": [
      "At time 2015 Jul 14 00:00:00, distance from Pluto to New Horizons = 585846.45 km\n"
     ]
    }
   ],
   "source": [
    "dist = cspice.vnorm(vector[0:3])\n",
    "print \"At time {}, distance from Pluto to New Horizons = {:.2f} km\".format(utc, dist)"
   ]
  },
  {
   "cell_type": "code",
   "execution_count": 27,
   "metadata": {
    "collapsed": false
   },
   "outputs": [
    {
     "name": "stdout",
     "output_type": "stream",
     "text": [
      "At time 2015 Jul 14 00:00:00, distance from Earth to New Horizons = 31.90 AU\n"
     ]
    }
   ],
   "source": [
    "dist_earth = cspice.vnorm(vector_earth[0:3])\n",
    "km_per_au = float((1*u.au) / (1*u.km))\n",
    "\n",
    "print \"At time {}, distance from Earth to New Horizons = {:.2f} AU\".\\\n",
    "format(utc, dist_earth/km_per_au)"
   ]
  },
  {
   "cell_type": "code",
   "execution_count": null,
   "metadata": {
    "collapsed": true
   },
   "outputs": [],
   "source": []
  }
 ],
 "metadata": {
  "kernelspec": {
   "display_name": "Python 2",
   "language": "python",
   "name": "python2"
  },
  "language_info": {
   "codemirror_mode": {
    "name": "ipython",
    "version": 2
   },
   "file_extension": ".py",
   "mimetype": "text/x-python",
   "name": "python",
   "nbconvert_exporter": "python",
   "pygments_lexer": "ipython2",
   "version": "2.7.11"
  }
 },
 "nbformat": 4,
 "nbformat_minor": 0
}
